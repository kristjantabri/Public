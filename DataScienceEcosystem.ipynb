{
 "cells": [
  {
   "cell_type": "markdown",
   "id": "0d461617-97ba-49eb-b473-1d647527b5ca",
   "metadata": {},
   "source": [
    "# Data Science Tools and Ecosystem"
   ]
  },
  {
   "cell_type": "markdown",
   "id": "fc2709fb-fbac-4d2a-8d5c-05e98d51c70a",
   "metadata": {},
   "source": [
    "## Author\n",
    "Kristjan Tabri"
   ]
  },
  {
   "cell_type": "markdown",
   "id": "ca046591-cfe4-4f6a-9f84-d41511001637",
   "metadata": {},
   "source": [
    "In this notebook, Data Science Tools and Ecosystem are summarized."
   ]
  },
  {
   "cell_type": "markdown",
   "id": "165cf57f-5cef-4a73-b1c7-1650b10dd824",
   "metadata": {},
   "source": [
    "***Objectives:***\n",
    "*   Get an overview of popular languages for Data Science\n",
    "*   Get an overview of commonly used libraries used by Data Scientists \n",
    "*   Get an overview of main Data Science tools\n",
    "*   Get an overview of tools for code version management"
   ]
  },
  {
   "cell_type": "markdown",
   "id": "07213caa-88ac-406c-8706-7de6a380ec1a",
   "metadata": {},
   "source": [
    "Some of the popular languages that Data Scientists use are:\n",
    "1. Python\n",
    "2. R\n",
    "3. SQL\n",
    "4. Lydia\n",
    "5. Scala\n",
    "6. Java"
   ]
  },
  {
   "cell_type": "markdown",
   "id": "5dc216e1-1756-48ee-8116-f43eabe1135f",
   "metadata": {},
   "source": [
    "Some of the commonly used libraries used by Data Scientists include:\n",
    "1. NumPy\n",
    "2. Panda\n",
    "3. Matplotlib \n",
    "4. Seaborn \n",
    "5. Scikit-learn\n",
    "6. TensorFlow \n",
    "7. PyTorch\n"
   ]
  },
  {
   "cell_type": "markdown",
   "id": "46692e97-31f2-44c2-8b30-7233635e2ffd",
   "metadata": {},
   "source": [
    "| Data Science Tools|\n",
    "| -------------|\n",
    "|Jupyter Notebook| \n",
    "|RStudio|\n",
    "|Visual Studio Code|"
   ]
  },
  {
   "cell_type": "markdown",
   "id": "803c3cbc-6cfa-4e22-88c3-f370c3304cc4",
   "metadata": {},
   "source": [
    "### Below are a few examples of evaluating arithmetic expressions in Python."
   ]
  },
  {
   "cell_type": "code",
   "execution_count": 3,
   "id": "7fbc269c-23c9-4553-8f58-594b960ddf5d",
   "metadata": {},
   "outputs": [
    {
     "data": {
      "text/plain": [
       "17"
      ]
     },
     "execution_count": 3,
     "metadata": {},
     "output_type": "execute_result"
    }
   ],
   "source": [
    "# This a simple arithmetic expression to mutiply then add integers\n",
    "(3*4)+5"
   ]
  },
  {
   "cell_type": "code",
   "execution_count": 7,
   "id": "04ffbe8a-d586-436f-a295-873a4da6f432",
   "metadata": {},
   "outputs": [
    {
     "data": {
      "text/plain": [
       "3.3333333333333335"
      ]
     },
     "execution_count": 7,
     "metadata": {},
     "output_type": "execute_result"
    }
   ],
   "source": [
    "# This will convert 200 minutes to hours by diving by 60\n",
    "200/60"
   ]
  }
 ],
 "metadata": {
  "kernelspec": {
   "display_name": "Python [conda env:base] *",
   "language": "python",
   "name": "conda-base-py"
  },
  "language_info": {
   "codemirror_mode": {
    "name": "ipython",
    "version": 3
   },
   "file_extension": ".py",
   "mimetype": "text/x-python",
   "name": "python",
   "nbconvert_exporter": "python",
   "pygments_lexer": "ipython3",
   "version": "3.13.5"
  }
 },
 "nbformat": 4,
 "nbformat_minor": 5
}
